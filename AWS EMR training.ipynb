{
 "cells": [
  {
   "cell_type": "markdown",
   "metadata": {},
   "source": [
    "# AWS EMR Notebook for Sparkify churn prediction"
   ]
  },
  {
   "cell_type": "code",
   "execution_count": 14,
   "metadata": {},
   "outputs": [
    {
     "data": {
      "application/vnd.jupyter.widget-view+json": {
       "model_id": "37fa18b881b34b6c9b588f160045414e",
       "version_major": 2,
       "version_minor": 0
      },
      "text/plain": [
       "VBox()"
      ]
     },
     "metadata": {},
     "output_type": "display_data"
    },
    {
     "data": {
      "application/vnd.jupyter.widget-view+json": {
       "model_id": "",
       "version_major": 2,
       "version_minor": 0
      },
      "text/plain": [
       "FloatProgress(value=0.0, bar_style='info', description='Progress:', layout=Layout(height='25px', width='50%'),…"
      ]
     },
     "metadata": {},
     "output_type": "display_data"
    }
   ],
   "source": [
    "from pyspark.sql import SparkSession\n",
    "import pyspark.sql.functions as F\n",
    "from pyspark.sql.functions import col\n",
    "from pyspark.sql.types import IntegerType, DecimalType, FloatType, ByteType, ShortType, BinaryType, BooleanType\n",
    "from pyspark.sql import Window\n",
    "from pyspark.ml.feature import VectorAssembler, Normalizer\n",
    "from pyspark.ml.classification import LogisticRegression, RandomForestClassifier, BinaryLogisticRegressionSummary, GBTClassifier, MultilayerPerceptronClassifier\n",
    "from pyspark.ml.evaluation import BinaryClassificationEvaluator, MulticlassClassificationEvaluator\n",
    "from pyspark.mllib.evaluation import MulticlassMetrics\n",
    "from pyspark.ml.tuning import CrossValidator, ParamGridBuilder\n",
    "from time import time"
   ]
  },
  {
   "cell_type": "code",
   "execution_count": 2,
   "metadata": {},
   "outputs": [
    {
     "data": {
      "text/html": [
       "Current session configs: <tt>{'conf': {'spark.pyspark.python': 'python3', 'spark.pyspark.virtualenv.enabled': 'true', 'spark.pyspark.virtualenv.type': 'native', 'spark.pyspark.virtualenv.bin.path': '/usr/bin/virtualenv'}, 'kind': 'pyspark'}</tt><br>"
      ],
      "text/plain": [
       "<IPython.core.display.HTML object>"
      ]
     },
     "metadata": {},
     "output_type": "display_data"
    },
    {
     "data": {
      "text/html": [
       "<table>\n",
       "<tr><th>ID</th><th>YARN Application ID</th><th>Kind</th><th>State</th><th>Spark UI</th><th>Driver log</th><th>Current session?</th></tr><tr><td>5</td><td>application_1613171401400_0006</td><td>pyspark</td><td>idle</td><td><a target=\"_blank\" href=\"http://ip-172-31-38-182.us-west-2.compute.internal:20888/proxy/application_1613171401400_0006/\">Link</a></td><td><a target=\"_blank\" href=\"http://ip-172-31-45-93.us-west-2.compute.internal:8042/node/containerlogs/container_1613171401400_0006_01_000001/livy\">Link</a></td><td>✔</td></tr></table>"
      ],
      "text/plain": [
       "<IPython.core.display.HTML object>"
      ]
     },
     "metadata": {},
     "output_type": "display_data"
    }
   ],
   "source": [
    "%%info"
   ]
  },
  {
   "cell_type": "code",
   "execution_count": 3,
   "metadata": {},
   "outputs": [
    {
     "data": {
      "application/vnd.jupyter.widget-view+json": {
       "model_id": "122a4c32ceb046edbf38da365ed92c80",
       "version_major": 2,
       "version_minor": 0
      },
      "text/plain": [
       "VBox()"
      ]
     },
     "metadata": {},
     "output_type": "display_data"
    },
    {
     "data": {
      "application/vnd.jupyter.widget-view+json": {
       "model_id": "",
       "version_major": 2,
       "version_minor": 0
      },
      "text/plain": [
       "FloatProgress(value=0.0, bar_style='info', description='Progress:', layout=Layout(height='25px', width='50%'),…"
      ]
     },
     "metadata": {},
     "output_type": "display_data"
    }
   ],
   "source": [
    "# CONFIG\n",
    "S3_DATA_URI = \"s3n://udacity-dsnd/sparkify/sparkify_event_data.json\"\n",
    "S3_DATA_SAMPLE_URI = \"s3n://udacity-dsnd/sparkify/mini_sparkify_event_data.json\"\n",
    "SPARK_APP_NAME = \"Sparkify\"\n",
    "TRAIN_TEST_SPLIT_RATE = [0.7, 0.3]\n",
    "LABEL_ALIAS = \"label\"\n",
    "RAW_FEATURES_ALIAS = \"raw_features\"\n",
    "FEATURES_ALIAS = \"features\"\n",
    "SEED = 2137\n",
    "DAYS_ACTIVITY_LIMIT = 30"
   ]
  },
  {
   "cell_type": "code",
   "execution_count": 4,
   "metadata": {},
   "outputs": [
    {
     "data": {
      "application/vnd.jupyter.widget-view+json": {
       "model_id": "dd2c0b2b015441ab853913c44bc6e625",
       "version_major": 2,
       "version_minor": 0
      },
      "text/plain": [
       "VBox()"
      ]
     },
     "metadata": {},
     "output_type": "display_data"
    },
    {
     "data": {
      "application/vnd.jupyter.widget-view+json": {
       "model_id": "",
       "version_major": 2,
       "version_minor": 0
      },
      "text/plain": [
       "FloatProgress(value=0.0, bar_style='info', description='Progress:', layout=Layout(height='25px', width='50%'),…"
      ]
     },
     "metadata": {},
     "output_type": "display_data"
    },
    {
     "name": "stdout",
     "output_type": "stream",
     "text": [
      "26259199"
     ]
    }
   ],
   "source": [
    "df = spark.read.json(S3_DATA_URI)\n",
    "df.count()"
   ]
  },
  {
   "cell_type": "code",
   "execution_count": 5,
   "metadata": {},
   "outputs": [
    {
     "data": {
      "application/vnd.jupyter.widget-view+json": {
       "model_id": "459e818f7209426ea9814dcebc680c1c",
       "version_major": 2,
       "version_minor": 0
      },
      "text/plain": [
       "VBox()"
      ]
     },
     "metadata": {},
     "output_type": "display_data"
    },
    {
     "data": {
      "application/vnd.jupyter.widget-view+json": {
       "model_id": "",
       "version_major": 2,
       "version_minor": 0
      },
      "text/plain": [
       "FloatProgress(value=0.0, bar_style='info', description='Progress:', layout=Layout(height='25px', width='50%'),…"
      ]
     },
     "metadata": {},
     "output_type": "display_data"
    }
   ],
   "source": [
    "# Exclude logout users\n",
    "df = df.filter(df[\"userId\"] != \"\")\n",
    "\n",
    "# Flag churn events\n",
    "flag_cancelled_auth_event = F.udf(lambda x: 1 if x == \"Cancellation Confirmation\" else 0, ByteType())\n",
    "df = df.withColumn(\"cancelled\", flag_cancelled_auth_event(\"page\"))\n",
    "\n",
    "# Consider the full range of rows partitioned by 'userId'. We know that `Cancellation Confirmation` is the last event \n",
    "# for the all users, that have it. \n",
    "windowval = Window.partitionBy(\"userId\")\n",
    "df = df.withColumn(\"phaseCancelled\", F.max(\"cancelled\").over(windowval).cast(ByteType()))\n",
    "\n",
    "# Exclude unnecessary fields\n",
    "df = df.filter(df.page != \"Cancellation Confirmation\")\n",
    "df = df.filter(df.page != \"Cancel\")\n",
    "df = df.filter(df.page != \"Home\")\n",
    "\n",
    "# Convert timestamps to datetime format\n",
    "df = df.withColumn('datetime', F.from_unixtime(col(\"ts\") / 1000))\n",
    "df = df.withColumn('datetimeReg', F.from_unixtime(col(\"registration\") / 1000))\n",
    "\n",
    "# Calculate number of days from registration\n",
    "df = df.withColumn('daysFromReg', F.datediff(col('datetime'), col('datetimeReg')).cast(ShortType()))\n",
    "df = df.withColumn('lastActivity', F.max('datetime').over(windowval))\n",
    "\n",
    "# Calculate number days of last activity and keep records of DAYS_ACTIVITY_LIMIT from last activity\n",
    "df = df.withColumn('daysFromLastActivity', F.datediff(col('lastActivity'), col('datetime')).cast(ShortType()))\n",
    "df = df.filter(df.daysFromLastActivity < DAYS_ACTIVITY_LIMIT)\n",
    "\n",
    "# Encode gender\n",
    "encode_gender = F.udf(lambda x: 1 if x == \"M\" else 0, ByteType())\n",
    "df = df.withColumn(\"isMale\", encode_gender(\"gender\"))\n"
   ]
  },
  {
   "cell_type": "code",
   "execution_count": 6,
   "metadata": {},
   "outputs": [
    {
     "data": {
      "application/vnd.jupyter.widget-view+json": {
       "model_id": "dfa73016f95f4abc86aa9490dedd8d1d",
       "version_major": 2,
       "version_minor": 0
      },
      "text/plain": [
       "VBox()"
      ]
     },
     "metadata": {},
     "output_type": "display_data"
    },
    {
     "data": {
      "application/vnd.jupyter.widget-view+json": {
       "model_id": "",
       "version_major": 2,
       "version_minor": 0
      },
      "text/plain": [
       "FloatProgress(value=0.0, bar_style='info', description='Progress:', layout=Layout(height='25px', width='50%'),…"
      ]
     },
     "metadata": {},
     "output_type": "display_data"
    },
    {
     "name": "stdout",
     "output_type": "stream",
     "text": [
      "[Row(artist='Alejandro Sanz', auth='Logged In', firstName='Frank', gender='M', itemInSession=3, lastName='Warren', length=277.44608, level='free', location='Findlay, OH', method='PUT', page='NextSong', registration=1535470939000, sessionId=21396, song='Te lo agradezco_ pero no', status=200, ts=1541107960000, userAgent='Mozilla/5.0 (Windows NT 5.1; rv:31.0) Gecko/20100101 Firefox/31.0', userId='1000280', cancelled=0, phaseCancelled=1, datetime='2018-11-01 21:32:40', datetimeReg='2018-08-28 15:42:19', daysFromReg=65, lastActivity='2018-11-13 22:58:59', daysFromLastActivity=12, isMale=1)]\n",
      "----------------------------------------\n",
      "Exception happened during processing of request from ('127.0.0.1', 42418)\n",
      "Traceback (most recent call last):\n",
      "  File \"/usr/lib64/python3.6/socketserver.py\", line 320, in _handle_request_noblock\n",
      "    self.process_request(request, client_address)\n",
      "  File \"/usr/lib64/python3.6/socketserver.py\", line 351, in process_request\n",
      "    self.finish_request(request, client_address)\n",
      "  File \"/usr/lib64/python3.6/socketserver.py\", line 364, in finish_request\n",
      "    self.RequestHandlerClass(request, client_address, self)\n",
      "  File \"/usr/lib64/python3.6/socketserver.py\", line 724, in __init__\n",
      "    self.handle()\n",
      "  File \"/usr/lib/spark/python/lib/pyspark.zip/pyspark/accumulators.py\", line 266, in handle\n",
      "    poll(authenticate_and_accum_updates)\n",
      "  File \"/usr/lib/spark/python/lib/pyspark.zip/pyspark/accumulators.py\", line 241, in poll\n",
      "    if func():\n",
      "  File \"/usr/lib/spark/python/lib/pyspark.zip/pyspark/accumulators.py\", line 254, in authenticate_and_accum_updates\n",
      "    received_token = self.rfile.read(len(auth_token))\n",
      "TypeError: object of type 'NoneType' has no len()\n",
      "----------------------------------------"
     ]
    }
   ],
   "source": [
    "df.take(1)"
   ]
  },
  {
   "cell_type": "code",
   "execution_count": 7,
   "metadata": {},
   "outputs": [
    {
     "data": {
      "application/vnd.jupyter.widget-view+json": {
       "model_id": "465e6306d90445169ec1b19dbe2e37a8",
       "version_major": 2,
       "version_minor": 0
      },
      "text/plain": [
       "VBox()"
      ]
     },
     "metadata": {},
     "output_type": "display_data"
    },
    {
     "data": {
      "application/vnd.jupyter.widget-view+json": {
       "model_id": "",
       "version_major": 2,
       "version_minor": 0
      },
      "text/plain": [
       "FloatProgress(value=0.0, bar_style='info', description='Progress:', layout=Layout(height='25px', width='50%'),…"
      ]
     },
     "metadata": {},
     "output_type": "display_data"
    }
   ],
   "source": [
    "avgItemsInSession = df.groupby('userId', 'sessionId')\\\n",
    "                        .agg(F.max('itemInSession').alias('maxItemInSession'))\\\n",
    "                        .groupby('userId')\\\n",
    "                        .agg(F.mean('maxItemInSession').cast(ShortType()).alias('avgItemsInSession'))\n",
    "\n",
    "# IntegerType, DecimalType, FloatType, ByteType, ShortType, BinaryType, BooleanType\n",
    "def days(i):\n",
    "    return i*86400\n",
    "\n",
    "users_sessions = df.groupby('userId', 'isMale', 'phaseCancelled').agg(F.countDistinct('sessionId').alias('sessCount'),\n",
    "                                                            F.max('daysFromReg').cast(ShortType()).alias('daysFromReg'))\n",
    "\n",
    "users_events = df.groupby('userId', 'page').agg(F.count('sessionId').alias('pageCount'))\n",
    "users_sessions = users_sessions.join(users_events, on='userId', how='left')\\\n",
    "                               .join(avgItemsInSession, on='userId', how='left')\n",
    "\n",
    "users_sessions = users_sessions.withColumn('pageCountPerSess', (col('pageCount') / col('sessCount')).cast(DecimalType(6, 2)))\n",
    "final_df = users_sessions.select('phaseCancelled', 'userId', 'isMale', 'avgItemsInSession', 'daysFromReg', 'page', 'sessCount', 'pageCountPerSess', 'pageCount')\\\n",
    "    .groupby('phaseCancelled', 'userId', 'isMale', 'avgItemsInSession', 'daysFromReg', 'sessCount').pivot('page').agg(F.avg('pageCountPerSess').alias('CPS'), \n",
    "                                                                                                                       F.avg('pageCount').alias('C'))\n",
    "final_df = final_df.fillna(0)"
   ]
  },
  {
   "cell_type": "code",
   "execution_count": 8,
   "metadata": {},
   "outputs": [
    {
     "data": {
      "application/vnd.jupyter.widget-view+json": {
       "model_id": "f4779ebf4cc0488fb03afd81dbe8dfe0",
       "version_major": 2,
       "version_minor": 0
      },
      "text/plain": [
       "VBox()"
      ]
     },
     "metadata": {},
     "output_type": "display_data"
    },
    {
     "data": {
      "application/vnd.jupyter.widget-view+json": {
       "model_id": "",
       "version_major": 2,
       "version_minor": 0
      },
      "text/plain": [
       "FloatProgress(value=0.0, bar_style='info', description='Progress:', layout=Layout(height='25px', width='50%'),…"
      ]
     },
     "metadata": {},
     "output_type": "display_data"
    }
   ],
   "source": [
    "inputCols = [\n",
    " 'avgItemsInSession',\n",
    " 'daysFromReg',\n",
    " 'isMale',\n",
    " 'sessCount',\n",
    " 'About_CPS',\n",
    " 'About_C',\n",
    "#  'Add Friend_CPS',\n",
    " 'Add Friend_C',\n",
    " 'Add to Playlist_CPS',\n",
    "#  'Add to Playlist_C',\n",
    " 'Downgrade_CPS',\n",
    " 'Downgrade_C',\n",
    " 'Error_CPS',\n",
    " 'Error_C',\n",
    " 'Help_CPS',\n",
    " 'Help_C',\n",
    "#  'Logout_CPS',\n",
    " 'Logout_C',\n",
    " 'NextSong_CPS',\n",
    " 'NextSong_C',\n",
    " 'Roll Advert_CPS',\n",
    "#  'Roll Advert_C',\n",
    " 'Save Settings_CPS',\n",
    " 'Save Settings_C',\n",
    " 'Settings_CPS',\n",
    " 'Settings_C',\n",
    " 'Submit Downgrade_CPS',\n",
    " 'Submit Downgrade_C',\n",
    " 'Submit Upgrade_CPS',\n",
    " 'Submit Upgrade_C',\n",
    " 'Thumbs Down_CPS',\n",
    " 'Thumbs Down_C',\n",
    " 'Thumbs Up_CPS',\n",
    "#  'Thumbs Up_C',\n",
    " 'Upgrade_CPS'\n",
    "#  'Upgrade_C'\n",
    "]\n",
    "\n",
    "assembler = VectorAssembler(inputCols=inputCols, outputCol=RAW_FEATURES_ALIAS)\n",
    "final_df = assembler.transform(final_df)\n",
    "\n",
    "normalizer = Normalizer(inputCol=RAW_FEATURES_ALIAS, outputCol=FEATURES_ALIAS)\n",
    "final_df = normalizer.transform(final_df)\n",
    "\n",
    "dataset = final_df.select(col(\"phaseCancelled\").alias(LABEL_ALIAS), col(FEATURES_ALIAS))\n",
    "train, test = dataset.randomSplit(TRAIN_TEST_SPLIT_RATE, seed=SEED)"
   ]
  },
  {
   "cell_type": "code",
   "execution_count": 9,
   "metadata": {},
   "outputs": [
    {
     "data": {
      "application/vnd.jupyter.widget-view+json": {
       "model_id": "8c973512b840473a80b21f2f876acb56",
       "version_major": 2,
       "version_minor": 0
      },
      "text/plain": [
       "VBox()"
      ]
     },
     "metadata": {},
     "output_type": "display_data"
    },
    {
     "data": {
      "application/vnd.jupyter.widget-view+json": {
       "model_id": "",
       "version_major": 2,
       "version_minor": 0
      },
      "text/plain": [
       "FloatProgress(value=0.0, bar_style='info', description='Progress:', layout=Layout(height='25px', width='50%'),…"
      ]
     },
     "metadata": {},
     "output_type": "display_data"
    }
   ],
   "source": [
    "def classification_report(test_results, train_results, label):\n",
    "    \"\"\"Calculate classification report based provided test and train set labels and predictions.\n",
    "    Returns: dictionary containing classification report.\"\"\"\n",
    "        \n",
    "    s = time()\n",
    "    for dataset, dataset_label in [(train_results, 'train'), (test_results, 'test')]:\n",
    "        counts = dataset.groupby('label', 'prediction').count()\n",
    "        counts_list = list(map(lambda row: row.asDict(), counts.collect()))\n",
    "\n",
    "        eval_map = { \n",
    "            'TP' : [1.0, 1.0], \n",
    "            'FP' : [0.0, 1.0],\n",
    "            'TN' : [0.0, 0.0],\n",
    "            'FN' : [1.0, 0.0]\n",
    "        }\n",
    "\n",
    "        dict_res = {}\n",
    "\n",
    "        for d in counts_list:\n",
    "            for name, (label_val, pred_val)  in eval_map.items():\n",
    "                if d['label'] == label_val and d['prediction'] == pred_val:\n",
    "                    dict_res[name] = d['count']\n",
    "\n",
    "        for name in eval_map.keys():\n",
    "            if name not in dict_res.keys():\n",
    "                dict_res[name] = 0\n",
    "\n",
    "        dict_res['TOTAL'] = sum(dict_res.values())\n",
    "        dict_res['ACC'] = (dict_res['TP'] + dict_res['TN']) / dict_res['TOTAL']\n",
    "        dict_res['PR'] = dict_res['TP'] / (dict_res['TP'] + dict_res['FP'])\n",
    "        dict_res['RC'] = dict_res['TP'] / (dict_res['TP'] + dict_res['FN'])\n",
    "        dict_res['FSCORE'] = 2 * (dict_res['PR'] * dict_res['RC']) / (dict_res['PR'] + dict_res['RC'])\n",
    "        \n",
    "        print(f'---- {dataset_label.upper()} ----')\n",
    "        print('MEASURE\\tVALUE')\n",
    "        for key, val in dict_res.items():\n",
    "            print(f'{key}:\\t{val:.2f}')\n",
    "        print('')\n",
    "    e = time()\n",
    "    delta = e-s\n",
    "    print(f'Eval time: {delta:.2f}s')\n",
    "    return dict_res\n"
   ]
  },
  {
   "cell_type": "code",
   "execution_count": 25,
   "metadata": {},
   "outputs": [
    {
     "data": {
      "application/vnd.jupyter.widget-view+json": {
       "model_id": "8cd92b85c9ee41e1b73e9952e3d3f657",
       "version_major": 2,
       "version_minor": 0
      },
      "text/plain": [
       "VBox()"
      ]
     },
     "metadata": {},
     "output_type": "display_data"
    },
    {
     "data": {
      "application/vnd.jupyter.widget-view+json": {
       "model_id": "",
       "version_major": 2,
       "version_minor": 0
      },
      "text/plain": [
       "FloatProgress(value=0.0, bar_style='info', description='Progress:', layout=Layout(height='25px', width='50%'),…"
      ]
     },
     "metadata": {},
     "output_type": "display_data"
    }
   ],
   "source": [
    "def train_and_predict(method):\n",
    "    \"\"\"Train model and evaluate\"\"\"\n",
    "    \n",
    "    m = method.fit(train)\n",
    "    test_results = m.transform(test)\n",
    "    train_results = m.transform(train)\n",
    "    r = classification_report(test_results, train_results)\n",
    "    return m, r"
   ]
  },
  {
   "cell_type": "code",
   "execution_count": 10,
   "metadata": {},
   "outputs": [
    {
     "data": {
      "application/vnd.jupyter.widget-view+json": {
       "model_id": "31800ed8e9b54e7796af8864e183b717",
       "version_major": 2,
       "version_minor": 0
      },
      "text/plain": [
       "VBox()"
      ]
     },
     "metadata": {},
     "output_type": "display_data"
    },
    {
     "data": {
      "application/vnd.jupyter.widget-view+json": {
       "model_id": "",
       "version_major": 2,
       "version_minor": 0
      },
      "text/plain": [
       "FloatProgress(value=0.0, bar_style='info', description='Progress:', layout=Layout(height='25px', width='50%'),…"
      ]
     },
     "metadata": {},
     "output_type": "display_data"
    }
   ],
   "source": [
    "label_0_cnt = train.filter(train.label == 1).count()\n",
    "label_1_cnt = train.count() - label_0_cnt\n",
    "label_0_weight = 1.0\n",
    "label_1_weight = label_1_cnt / label_0_cnt\n",
    "\n",
    "assign_weight = F.udf(lambda x: label_1_weight if x == 1 else label_0_weight, FloatType())\n",
    "\n",
    "train = train.withColumn('weightCol', assign_weight(col('label')))\n",
    "\n",
    "lr = LogisticRegression(maxIter=40, regParam=0.0, weightCol='weightCol')\n",
    "m = lr.fit(train)\n",
    "\n",
    "test_results = m.transform(test)\n",
    "train_results = m.transform(train)"
   ]
  },
  {
   "cell_type": "code",
   "execution_count": 11,
   "metadata": {},
   "outputs": [
    {
     "data": {
      "application/vnd.jupyter.widget-view+json": {
       "model_id": "3952c0bbf76544d59dae8e6fa19251d4",
       "version_major": 2,
       "version_minor": 0
      },
      "text/plain": [
       "VBox()"
      ]
     },
     "metadata": {},
     "output_type": "display_data"
    },
    {
     "data": {
      "application/vnd.jupyter.widget-view+json": {
       "model_id": "",
       "version_major": 2,
       "version_minor": 0
      },
      "text/plain": [
       "FloatProgress(value=0.0, bar_style='info', description='Progress:', layout=Layout(height='25px', width='50%'),…"
      ]
     },
     "metadata": {},
     "output_type": "display_data"
    },
    {
     "name": "stdout",
     "output_type": "stream",
     "text": [
      "---- TRAIN ----\n",
      "MEASURE\tVALUE\n",
      "FN:\t853.00\n",
      "TN:\t8251.00\n",
      "TP:\t2626.00\n",
      "FP:\t3785.00\n",
      "TOTAL:\t15515.00\n",
      "ACC:\t0.70\n",
      "PR:\t0.41\n",
      "RC:\t0.75\n",
      "FSCORE:\t0.53\n",
      "\n",
      "---- TEST ----\n",
      "MEASURE\tVALUE\n",
      "FN:\t375.00\n",
      "TN:\t3559.00\n",
      "TP:\t1149.00\n",
      "FP:\t1668.00\n",
      "TOTAL:\t6751.00\n",
      "ACC:\t0.70\n",
      "PR:\t0.41\n",
      "RC:\t0.75\n",
      "FSCORE:\t0.53\n",
      "\n",
      "Eval time: 254.73s"
     ]
    }
   ],
   "source": [
    "rep = classification_report(test_results, train_results,  'LogRegWeighted') # 0.52, 0.51"
   ]
  },
  {
   "cell_type": "code",
   "execution_count": 12,
   "metadata": {},
   "outputs": [
    {
     "data": {
      "application/vnd.jupyter.widget-view+json": {
       "model_id": "087acf55bd46478ca618c4ce4430fac8",
       "version_major": 2,
       "version_minor": 0
      },
      "text/plain": [
       "VBox()"
      ]
     },
     "metadata": {},
     "output_type": "display_data"
    },
    {
     "data": {
      "application/vnd.jupyter.widget-view+json": {
       "model_id": "",
       "version_major": 2,
       "version_minor": 0
      },
      "text/plain": [
       "FloatProgress(value=0.0, bar_style='info', description='Progress:', layout=Layout(height='25px', width='50%'),…"
      ]
     },
     "metadata": {},
     "output_type": "display_data"
    },
    {
     "name": "stdout",
     "output_type": "stream",
     "text": [
      "Total time: 166.66s"
     ]
    }
   ],
   "source": [
    "s = time()\n",
    "lr = LogisticRegression(maxIter=1000, regParam=0.0, weightCol='weightCol')\n",
    "lr_model, lr_report = train_and_predict(lr)\n",
    "e = time()\n",
    "delta = e-s\n",
    "print(f'Total time: {delta:.2f}s')"
   ]
  },
  {
   "cell_type": "markdown",
   "metadata": {},
   "source": [
    "**The logistic regression model managed to identify 76% (recall=0.76) users who churned! Not bad! However, there is more false-positives than true-positives (Precision=0.41).**"
   ]
  },
  {
   "cell_type": "code",
   "execution_count": 76,
   "metadata": {},
   "outputs": [
    {
     "data": {
      "application/vnd.jupyter.widget-view+json": {
       "model_id": "f858989c19d148f8b52444d70e74425b",
       "version_major": 2,
       "version_minor": 0
      },
      "text/plain": [
       "VBox()"
      ]
     },
     "metadata": {},
     "output_type": "display_data"
    },
    {
     "data": {
      "application/vnd.jupyter.widget-view+json": {
       "model_id": "",
       "version_major": 2,
       "version_minor": 0
      },
      "text/plain": [
       "FloatProgress(value=0.0, bar_style='info', description='Progress:', layout=Layout(height='25px', width='50%'),…"
      ]
     },
     "metadata": {},
     "output_type": "display_data"
    },
    {
     "name": "stderr",
     "output_type": "stream",
     "text": [
      "Exception in thread cell_monitor-71:\n",
      "Traceback (most recent call last):\n",
      "  File \"/opt/conda/lib/python3.7/threading.py\", line 926, in _bootstrap_inner\n",
      "    self.run()\n",
      "  File \"/opt/conda/lib/python3.7/threading.py\", line 870, in run\n",
      "    self._target(*self._args, **self._kwargs)\n",
      "  File \"/opt/conda/lib/python3.7/site-packages/awseditorssparkmonitoringwidget-1.0-py3.7.egg/awseditorssparkmonitoringwidget/cellmonitor.py\", line 178, in cell_monitor\n",
      "    job_binned_stages[job_id][stage_id] = all_stages[stage_id]\n",
      "KeyError: 37445\n",
      "\n"
     ]
    },
    {
     "name": "stdout",
     "output_type": "stream",
     "text": [
      "---- TRAIN ----\n",
      "MEASURE\tVALUE\n",
      "FN:\t1268.00\n",
      "TN:\t11820.00\n",
      "TP:\t2211.00\n",
      "FP:\t216.00\n",
      "TOTAL:\t15515.00\n",
      "ACC:\t0.90\n",
      "PR:\t0.91\n",
      "RC:\t0.64\n",
      "FSCORE:\t0.75\n",
      "\n",
      "---- TEST ----\n",
      "MEASURE\tVALUE\n",
      "FN:\t883.00\n",
      "TN:\t4882.00\n",
      "TP:\t641.00\n",
      "FP:\t345.00\n",
      "TOTAL:\t6751.00\n",
      "ACC:\t0.82\n",
      "PR:\t0.65\n",
      "RC:\t0.42\n",
      "FSCORE:\t0.51\n",
      "\n",
      "Eval time: 447.33s"
     ]
    }
   ],
   "source": [
    "gbt = GBTClassifier(featuresCol='features', \n",
    "                    labelCol='label', \n",
    "                    predictionCol='prediction', \n",
    "                    maxIter=50,\n",
    "                    maxDepth=8,\n",
    "                    maxBins=32, \n",
    "                    minInstancesPerNode=20, \n",
    "                    minInfoGain=0.0, \n",
    "                    maxMemoryInMB=256, \n",
    "                    cacheNodeIds=False, \n",
    "                    checkpointInterval=10, \n",
    "                    lossType='logistic', \n",
    "                    seed=SEED, \n",
    "                    subsamplingRate=0.7, \n",
    "                    featureSubsetStrategy='auto')\n",
    "\n",
    "gbt, gbt = train_and_predict(gbt) # 0.52, 0.51"
   ]
  },
  {
   "cell_type": "code",
   "execution_count": null,
   "metadata": {},
   "outputs": [],
   "source": [
    "s = time()\n",
    "cv_rf_model = cv.fit(train)\n",
    "e = time()\n",
    "delta = e-s\n",
    "print(f'Total time: {delta:.2f}s')"
   ]
  },
  {
   "cell_type": "code",
   "execution_count": 23,
   "metadata": {},
   "outputs": [
    {
     "data": {
      "application/vnd.jupyter.widget-view+json": {
       "model_id": "17b9546a51f34f58a41134096cf505b5",
       "version_major": 2,
       "version_minor": 0
      },
      "text/plain": [
       "VBox()"
      ]
     },
     "metadata": {},
     "output_type": "display_data"
    },
    {
     "data": {
      "application/vnd.jupyter.widget-view+json": {
       "model_id": "",
       "version_major": 2,
       "version_minor": 0
      },
      "text/plain": [
       "FloatProgress(value=0.0, bar_style='info', description='Progress:', layout=Layout(height='25px', width='50%'),…"
      ]
     },
     "metadata": {},
     "output_type": "display_data"
    },
    {
     "name": "stderr",
     "output_type": "stream",
     "text": [
      "Exception in thread cell_monitor-22:\n",
      "Traceback (most recent call last):\n",
      "  File \"/opt/conda/lib/python3.7/threading.py\", line 926, in _bootstrap_inner\n",
      "    self.run()\n",
      "  File \"/opt/conda/lib/python3.7/threading.py\", line 870, in run\n",
      "    self._target(*self._args, **self._kwargs)\n",
      "  File \"/opt/conda/lib/python3.7/site-packages/awseditorssparkmonitoringwidget-1.0-py3.7.egg/awseditorssparkmonitoringwidget/cellmonitor.py\", line 178, in cell_monitor\n",
      "    job_binned_stages[job_id][stage_id] = all_stages[stage_id]\n",
      "KeyError: 9992\n",
      "\n"
     ]
    },
    {
     "name": "stdout",
     "output_type": "stream",
     "text": [
      "Model trained!\n",
      "Total time: 710.38s"
     ]
    }
   ],
   "source": [
    "s = time()\n",
    "# specify layers for the neural network:\n",
    "# input layer of size 4 (features), two intermediate of size 5 and 4\n",
    "# and output of size 3 (classes)\n",
    "n_input = len(inputCols)\n",
    "layers = [n_input, 8, 4, 2]\n",
    "\n",
    "# create the trainer and set its parameters\n",
    "trainer = MultilayerPerceptronClassifier(maxIter=1500, layers=layers, blockSize=256, seed=SEED)\n",
    "\n",
    "# train the model\n",
    "model = trainer.fit(train)\n",
    "print('Model trained!')\n",
    "# compute accuracy on the test set\n",
    "test_result_nn = model.transform(test)\n",
    "train_result_nn = model.transform(train)\n",
    "e = time()\n",
    "delta = e-s\n",
    "print(f'Total time: {delta:.2f}s')"
   ]
  },
  {
   "cell_type": "code",
   "execution_count": 24,
   "metadata": {},
   "outputs": [
    {
     "data": {
      "application/vnd.jupyter.widget-view+json": {
       "model_id": "422d2ce61bd248ba9cf21b6ef1a63d57",
       "version_major": 2,
       "version_minor": 0
      },
      "text/plain": [
       "VBox()"
      ]
     },
     "metadata": {},
     "output_type": "display_data"
    },
    {
     "data": {
      "application/vnd.jupyter.widget-view+json": {
       "model_id": "",
       "version_major": 2,
       "version_minor": 0
      },
      "text/plain": [
       "FloatProgress(value=0.0, bar_style='info', description='Progress:', layout=Layout(height='25px', width='50%'),…"
      ]
     },
     "metadata": {},
     "output_type": "display_data"
    },
    {
     "name": "stdout",
     "output_type": "stream",
     "text": [
      "---- TRAIN ----\n",
      "MEASURE\tVALUE\n",
      "FN:\t1976.00\n",
      "TN:\t11482.00\n",
      "TP:\t1503.00\n",
      "FP:\t554.00\n",
      "TOTAL:\t15515.00\n",
      "ACC:\t0.84\n",
      "PR:\t0.73\n",
      "RC:\t0.43\n",
      "FSCORE:\t0.54\n",
      "\n",
      "---- TEST ----\n",
      "MEASURE\tVALUE\n",
      "FN:\t886.00\n",
      "TN:\t4981.00\n",
      "TP:\t638.00\n",
      "FP:\t246.00\n",
      "TOTAL:\t6751.00\n",
      "ACC:\t0.83\n",
      "PR:\t0.72\n",
      "RC:\t0.42\n",
      "FSCORE:\t0.53\n",
      "\n",
      "Eval time: 299.33s"
     ]
    }
   ],
   "source": [
    "res_rf = classification_report(test_result_nn, train_result_nn, 'NN')"
   ]
  },
  {
   "cell_type": "code",
   "execution_count": null,
   "metadata": {},
   "outputs": [],
   "source": []
  }
 ],
 "metadata": {
  "kernelspec": {
   "display_name": "PySpark",
   "language": "",
   "name": "pysparkkernel"
  },
  "language_info": {
   "codemirror_mode": {
    "name": "python",
    "version": 2
   },
   "mimetype": "text/x-python",
   "name": "pyspark",
   "pygments_lexer": "python2"
  }
 },
 "nbformat": 4,
 "nbformat_minor": 4
}
